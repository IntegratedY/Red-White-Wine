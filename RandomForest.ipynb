{
 "cells": [
  {
   "cell_type": "code",
   "execution_count": 63,
   "id": "222f9c88",
   "metadata": {
    "scrolled": true
   },
   "outputs": [
    {
     "name": "stdout",
     "output_type": "stream",
     "text": [
      "Red Wines Random Forest Classifier Training Accuracy: 0.8553557466770915\n",
      "White Wines Random Forest Classifier Training Accuracy: 0.810617662072486\n",
      "All Wines Random Forest Classifier Training Accuracy: 0.9915335770636906\n"
     ]
    }
   ],
   "source": [
    "import pandas as pd\n",
    "import matplotlib.pyplot as plt\n",
    "import seaborn as sb\n",
    "import numpy as np\n",
    "%matplotlib inline\n",
    "from sklearn.preprocessing import StandardScaler, LabelEncoder\n",
    "from sklearn.ensemble import RandomForestClassifier, GradientBoostingClassifier\n",
    "from sklearn.model_selection import train_test_split, GridSearchCV, cross_val_score, StratifiedKFold\n",
    "from sklearn.metrics import accuracy_score\n",
    "\n",
    "\n",
    "#Accesses and reads data from csv \n",
    "red_df = pd.read_csv('winequality-red.csv', sep = ';')\n",
    "white_df = pd.read_csv('winequality-white.csv', sep = ';')\n",
    "\n",
    "#join red and white data\n",
    "wines=[red_df,white_df]\n",
    "all_df = pd.concat(wines, ignore_index=True)\n",
    "\n",
    "# splitting wine into good and bad groups\n",
    "# 2-6.5 are \"bad\" quality, and wines that are  between 6.5 - 8 are \"good\"\n",
    "bins = (2, 6.5, 8)\n",
    "group_names = ['bad', 'good']\n",
    "red_df['quality'] = pd.cut(red_df['quality'], bins = bins, labels = group_names)\n",
    "white_df['quality'] = pd.cut(white_df['quality'], bins = bins, labels = group_names)\n",
    "all_df['quality'] = pd.cut(all_df['quality'], bins = bins, labels = group_names)\n",
    "\n",
    "\n",
    "# Assigning numeric labels to our quality variables\n",
    "label_quality = LabelEncoder()\n",
    "\n",
    "\n",
    "#Change dataframe to reflect new label\n",
    "red_df['quality'] = label_quality.fit_transform(red_df['quality'])\n",
    "white_df['quality'] = label_quality.fit_transform(white_df['quality'])\n",
    "all_df['quality'] = label_quality.fit_transform(all_df['quality'])\n",
    "\n",
    "\n",
    "#set dependent and independent variables\n",
    "#red wine variables\n",
    "Y_red = red_df.quality\n",
    "X_red = red_df.drop('quality', axis=1)\n",
    "#white wine variables\n",
    "Y_white = white_df.quality\n",
    "X_white = white_df.drop('quality', axis=1)\n",
    "#combined variables\n",
    "Y_all = all_df.quality\n",
    "X_all = all_df.drop('quality', axis=1)\n",
    "\n",
    "\n",
    "\n",
    "#split data into training and testing\n",
    "Xr_train, Xr_test, Yr_train, Yr_test = train_test_split(X_red, Y_red, test_size = 0.2, random_state = 0)\n",
    "Xw_train, Xw_test, Yw_train, Yw_test = train_test_split(X_white, Y_white, test_size = 0.2, random_state = 0)\n",
    "Xa_train, Xa_test, Ya_train, Ya_test = train_test_split(X_all, Y_all, test_size = 0.2, random_state = 0)\n",
    "\n",
    "#Feature Scaling\n",
    "#take account of variations in mean and SDs\n",
    "sc = StandardScaler()\n",
    "#red wine variables\n",
    "Xr_train = sc.fit_transform(Xr_train)\n",
    "Xr_test = sc.transform(Xr_test)\n",
    "#white wine variables\n",
    "Xw_train = sc.fit_transform(Xw_train)\n",
    "Xw_test = sc.transform(Xw_test)\n",
    "#combined sets variables\n",
    "Xa_train = sc.fit_transform(Xa_train)\n",
    "Xa_test = sc.transform(Xa_test)\n",
    "\n",
    "\n",
    "forest = RandomForestClassifier(n_estimators = 10, criterion = 'entropy', random_state = 0)\n",
    "forest.fit(Xr_train, Yr_train)\n",
    "forest.fit(Xw_train, Yw_train)\n",
    "forest.fit(Xa_train, Ya_train)\n",
    "\n",
    "\n",
    "print('Red Wines Random Forest Classifier Training Accuracy:', forest.score(Xr_train, Yr_train))\n",
    "print('White Wines Random Forest Classifier Training Accuracy:', forest.score(Xw_train, Yw_train))\n",
    "print('All Wines Random Forest Classifier Training Accuracy:', forest.score(Xa_train, Ya_train))\n",
    "\n"
   ]
  },
  {
   "cell_type": "code",
   "execution_count": null,
   "id": "f252600a",
   "metadata": {},
   "outputs": [],
   "source": []
  },
  {
   "cell_type": "code",
   "execution_count": null,
   "id": "69f49269",
   "metadata": {},
   "outputs": [],
   "source": []
  }
 ],
 "metadata": {
  "kernelspec": {
   "display_name": "Python 3",
   "language": "python",
   "name": "python3"
  },
  "language_info": {
   "codemirror_mode": {
    "name": "ipython",
    "version": 3
   },
   "file_extension": ".py",
   "mimetype": "text/x-python",
   "name": "python",
   "nbconvert_exporter": "python",
   "pygments_lexer": "ipython3",
   "version": "3.8.8"
  }
 },
 "nbformat": 4,
 "nbformat_minor": 5
}
